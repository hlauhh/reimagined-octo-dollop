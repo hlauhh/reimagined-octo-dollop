{
 "cells": [
  {
   "cell_type": "markdown",
   "id": "5d57dd6e-8f4c-405c-b68c-d4dc4a538faa",
   "metadata": {},
   "source": [
    "Objective: Introduce fundamental knowledge on variables and data types\n",
    "\n",
    "Author: HL\n",
    "Date: 7 Sept 2024"
   ]
  },
  {
   "cell_type": "code",
   "execution_count": 10,
   "id": "0dc3021c-ff80-4040-928b-10d6b67dfd51",
   "metadata": {},
   "outputs": [
    {
     "name": "stdout",
     "output_type": "stream",
     "text": [
      "Hello: JohnJohn\n"
     ]
    }
   ],
   "source": [
    "# \"Hello World\" == 'Hello World'\n",
    "# Hello World\n",
    "\n",
    "# save the string value to a variable\n",
    "var_1 = 'Hello World'\n",
    "var_name = \"John\"\n",
    "print(var_1[0:5] + \": \" + var_name*2)"
   ]
  },
  {
   "cell_type": "code",
   "execution_count": 19,
   "id": "27933524-d1ff-4830-af35-413819a5ef3c",
   "metadata": {},
   "outputs": [
    {
     "name": "stdout",
     "output_type": "stream",
     "text": [
      "4.0\n",
      "<class 'float'>\n",
      "<class 'str'>\n"
     ]
    }
   ],
   "source": [
    "#Integer\n",
    "\n",
    "var_int = 4.0\n",
    "print(var_int)\n",
    "print(type(var_int))\n",
    "print(type(var_1))"
   ]
  },
  {
   "cell_type": "code",
   "execution_count": 20,
   "id": "9376db0d-e2d8-4bf2-89db-a3742fb04866",
   "metadata": {},
   "outputs": [
    {
     "name": "stdout",
     "output_type": "stream",
     "text": [
      "['John', 4.0]\n"
     ]
    }
   ],
   "source": [
    "array_1 = [1,\"John\",var_int,7,7,['a','b','d']]\n",
    "\n",
    "print(array_1[1:2+1])\n",
    "\n",
    "# series, list, array what are the difference?"
   ]
  },
  {
   "cell_type": "code",
   "execution_count": 26,
   "id": "80b5dc07-3526-4e1e-959c-eb054c757896",
   "metadata": {},
   "outputs": [
    {
     "data": {
      "text/plain": [
       "'700 HK'"
      ]
     },
     "execution_count": 26,
     "metadata": {},
     "output_type": "execute_result"
    }
   ],
   "source": [
    "# dict_tkr = {\"Tkr\": [\"700 HK\", \"JPM\"], \"Sector\": [\"IT\" , \"Financials\"]}\n",
    "\n",
    "dict_tkr = {\n",
    "            \"Tkr\": [\"700 HK\", \"JPM\"], \n",
    "            \"Sector\": [\"IT\" , \"Financials\"]\n",
    "            }\n",
    "dict_tkr[\"Tkr\"][0]\n",
    "\n",
    "# because not every data is tablula and could be semi structured "
   ]
  },
  {
   "cell_type": "code",
   "execution_count": 32,
   "id": "9f65ae1e-be41-4bb6-9a1c-30f955e3a651",
   "metadata": {},
   "outputs": [
    {
     "name": "stdout",
     "output_type": "stream",
     "text": [
      "True\n",
      "11\n",
      "CN\n"
     ]
    }
   ],
   "source": [
    "dict_tkr = {\"700 HK\": {\"Sector\": \"IT\",\n",
    "                       \"PE\": 29, \n",
    "                       \"Country\": {\"Cnt_Issue\":\"HK\", \"Cnt_Risk\":\"CN\"}}, \n",
    "            \"JPM\": {\"Sector\": \"Financials\",\n",
    "                    \"PE\": 11,\n",
    "                    \"Country\": {\"Cnt_Issue\":\"US\", \"Cnt_Risk\":\"US\"}}\n",
    "           }\n",
    "\n",
    "# value part could be any data type\n",
    "print(dict_tkr['JPM']['Sector'] == 'Financials')\n",
    "print(dict_tkr['JPM']['PE'])\n",
    "print(dict_tkr['700 HK']['Country']['Cnt_Risk'])"
   ]
  },
  {
   "cell_type": "code",
   "execution_count": 33,
   "id": "6fd99129-403a-4d14-ac8e-e43499260716",
   "metadata": {},
   "outputs": [
    {
     "name": "stdout",
     "output_type": "stream",
     "text": [
      "Number is less than 10\n"
     ]
    }
   ],
   "source": [
    "number = 5\n",
    "\n",
    "# must has an if to start\n",
    "if number == 10:\n",
    "    print(\"Number is 10\")\n",
    "    \n",
    "# can add more elif \n",
    "elif number < 10:\n",
    "    print(\"Number is less than 10\")\n",
    "        # nested if statement here\n",
    "\n",
    "# can either has 1 eles or 0 else\n",
    "else:\n",
    "    print(\"Number is more than 10\")\n",
    "    "
   ]
  },
  {
   "cell_type": "code",
   "execution_count": null,
   "id": "a39acf2d-f2b2-4408-a707-c4a7d916cca6",
   "metadata": {},
   "outputs": [],
   "source": [
    "# For Loop more used than While Loop\n",
    "# Method(Function)"
   ]
  }
 ],
 "metadata": {
  "kernelspec": {
   "display_name": "Python 3 (ipykernel)",
   "language": "python",
   "name": "python3"
  },
  "language_info": {
   "codemirror_mode": {
    "name": "ipython",
    "version": 3
   },
   "file_extension": ".py",
   "mimetype": "text/x-python",
   "name": "python",
   "nbconvert_exporter": "python",
   "pygments_lexer": "ipython3",
   "version": "3.11.7"
  }
 },
 "nbformat": 4,
 "nbformat_minor": 5
}
